{
  "cells": [
    {
      "cell_type": "code",
      "execution_count": 1,
      "metadata": {
        "id": "RsITM4xbmvgY"
      },
      "outputs": [],
      "source": [
        "import torch\n",
        "import torchvision\n",
        "from torch import nn\n",
        "import torch.optim as optim\n",
        "from torchvision import datasets, transforms\n",
        "from torch.utils.data import random_split, DataLoader, Dataset\n",
        "import matplotlib.pyplot as plt\n",
        "from multiprocessing import Pool"
      ]
    },
    {
      "cell_type": "code",
      "execution_count": 2,
      "metadata": {},
      "outputs": [
        {
          "data": {
            "text/plain": [
              "device(type='cuda')"
            ]
          },
          "execution_count": 2,
          "metadata": {},
          "output_type": "execute_result"
        }
      ],
      "source": [
        "torch.device(\"cuda\" if torch.cuda.is_available() else \"cpu\")"
      ]
    },
    {
      "cell_type": "code",
      "execution_count": 3,
      "metadata": {
        "colab": {
          "base_uri": "https://localhost:8080/"
        },
        "id": "q-GkeqxOnnag",
        "outputId": "f025fdb6-4a00-4d17-e855-cc93624505f8"
      },
      "outputs": [],
      "source": [
        "transform = torchvision.transforms.Compose([\n",
        "    torchvision.transforms.ToTensor(),\n",
        "    torchvision.transforms.Normalize((0.1307,), (0.3081,))\n",
        "])\n",
        "\n",
        "test_loader = torch.utils.data.DataLoader(\n",
        "    torchvision.datasets.MNIST('./data', train=False, transform=transform, download=True),\n",
        "    batch_size=1000, shuffle=False,\n",
        ")\n",
        "\n",
        "\n",
        "class TransformDataset(Dataset):\n",
        "    def __init__(self, dataset, transform=None):\n",
        "        self.dataset = dataset\n",
        "        self.transform = transform\n",
        "        \n",
        "    def __len__(self):\n",
        "        return len(self.dataset)\n",
        "    \n",
        "    def __getitem__(self, idx):\n",
        "        image, label = self.dataset[idx]\n",
        "        if self.transform:\n",
        "            image = self.transform(image)\n",
        "        return image, label\n",
        "\n",
        "full_train_dataset = datasets.MNIST('./data', train=True, download=True)\n",
        "\n",
        "train_size = int(0.8 * len(full_train_dataset))\n",
        "val_size = len(full_train_dataset) - train_size\n",
        "train_dataset, val_dataset = random_split(full_train_dataset, [train_size, val_size])\n",
        "\n",
        "train_dataset = TransformDataset(train_dataset, transform=transform)\n",
        "val_dataset = TransformDataset(val_dataset, transform=transform)\n",
        "\n",
        "train_loader = DataLoader(train_dataset, batch_size=64, shuffle=True)\n",
        "val_loader = DataLoader(val_dataset, batch_size=1000, shuffle=False)\n",
        "\n",
        "\n"
      ]
    },
    {
      "cell_type": "code",
      "execution_count": 4,
      "metadata": {
        "id": "VV4xvQjOnZDT"
      },
      "outputs": [],
      "source": [
        "model = nn.Sequential(\n",
        "    nn.Flatten(),\n",
        "    nn.Linear(28 * 28, 100),\n",
        "    nn.ReLU(),\n",
        "    nn.Linear(100, 50),\n",
        "    nn.ReLU(),\n",
        "    nn.Linear(50, 10),\n",
        "    nn.Softmax(1)\n",
        ")\n",
        "model.compile()"
      ]
    },
    {
      "cell_type": "code",
      "execution_count": 5,
      "metadata": {
        "id": "_wYvjK6koawc"
      },
      "outputs": [],
      "source": [
        "criterion = nn.CrossEntropyLoss()\n",
        "optimizer = optim.SGD(model.parameters(), lr=0.01, momentum=0.9)"
      ]
    },
    {
      "cell_type": "code",
      "execution_count": 6,
      "metadata": {
        "id": "iw1T4cc1rQCD"
      },
      "outputs": [
        {
          "name": "stdout",
          "output_type": "stream",
          "text": [
            "Epoch 1 | Train Loss: 1393.1867 | Val Accuracy: 81.40%\n",
            "Epoch 2 | Train Loss: 1229.8666 | Val Accuracy: 84.06%\n",
            "Epoch 3 | Train Loss: 1217.9638 | Val Accuracy: 84.58%\n",
            "Epoch 4 | Train Loss: 1210.5681 | Val Accuracy: 84.93%\n",
            "Epoch 5 | Train Loss: 1205.5070 | Val Accuracy: 85.64%\n"
          ]
        }
      ],
      "source": [
        "def evaluate(model, val_loader):\n",
        "    model.eval()\n",
        "    correct = 0\n",
        "    total = 0\n",
        "    with torch.no_grad():\n",
        "        for data, target in val_loader:\n",
        "            output = model(data)\n",
        "            pred = output.argmax(dim=1)\n",
        "            correct += (pred == target).sum().item()\n",
        "            total += target.size(0)\n",
        "    accuracy = 100. * correct / total\n",
        "    return accuracy\n",
        "\n",
        "def train(model, train_loader, val_loader, optimizer, criterion, epochs=5):\n",
        "    for epoch in range(epochs):\n",
        "        model.train()\n",
        "        total_loss = 0\n",
        "        for data, target in train_loader:\n",
        "            optimizer.zero_grad()\n",
        "            output = model(data)\n",
        "            loss = criterion(output, target)\n",
        "            loss.backward()\n",
        "            optimizer.step()\n",
        "            total_loss += loss.item()\n",
        "\n",
        "        val_acc = evaluate(model, val_loader)\n",
        "        print(f\"Epoch {epoch+1} | Train Loss: {total_loss:.4f} | Val Accuracy: {val_acc:.2f}%\")\n",
        "\n",
        "train(model, train_loader, val_loader, optimizer, criterion)"
      ]
    },
    {
      "cell_type": "code",
      "execution_count": 7,
      "metadata": {
        "id": "4qJ9LpcGxso4"
      },
      "outputs": [
        {
          "name": "stdout",
          "output_type": "stream",
          "text": [
            "85.21000146865845 %\n"
          ]
        }
      ],
      "source": [
        "batch_acc = []\n",
        "\n",
        "for data, label in test_loader:\n",
        "    batch_acc.append((model(data).argmax(dim=1) == label).sum().item()/len(data))\n",
        "print(torch.mean(torch.tensor(batch_acc)).item() * 100, '%')"
      ]
    },
    {
      "cell_type": "code",
      "execution_count": 8,
      "metadata": {
        "id": "gnKZkmDvwuUh"
      },
      "outputs": [],
      "source": [
        "def find_perfect_representation(model, target_label, iterations=100, learning_rate=0.1):\n",
        "  input_tensor = torch.randn(1, 28, 28, requires_grad=True)\n",
        "\n",
        "  for i in range(iterations):\n",
        "    output = model(input_tensor)\n",
        "\n",
        "    target_activation = output[0, target_label]\n",
        "\n",
        "    target_activation.backward()\n",
        "    with torch.no_grad():\n",
        "      input_tensor += learning_rate * input_tensor.grad\n",
        "    input_tensor.grad.zero_()\n",
        "\n",
        "  return input_tensor"
      ]
    },
    {
      "cell_type": "code",
      "execution_count": 9,
      "metadata": {
        "id": "y-MrU5i_xNe9"
      },
      "outputs": [
        {
          "data": {
            "image/png": "[encoded data removed]",
            "text/plain": [
              "<Figure size 640x480 with 1 Axes>"
            ]
          },
          "metadata": {},
          "output_type": "display_data"
        }
      ],
      "source": [
        "target_label = 7\n",
        "perfect_representation = find_perfect_representation(model, target_label, 10000)\n",
        "plt.imshow(perfect_representation.detach().numpy().reshape(28, 28), cmap='gray')\n",
        "pred = model(perfect_representation.unsqueeze(0))\n",
        "top_pred = pred.argmax();\n",
        "plt.title(f\"{target_label} - {pred[0, top_pred].item()*100:.2f}% pewności\")\n",
        "plt.show()"
      ]
    },
    {
      "cell_type": "code",
      "execution_count": null,
      "metadata": {
        "id": "7uSo5VdLzy9N"
      },
      "outputs": [],
      "source": [
        "\n",
        "def mean_perfect_representation(target_label):\n",
        "  print(f\"Calculating mean perfect representation for label {target_label}...\")\n",
        "  preds_all_flatten = [p[0].reshape(-1) for p in [find_perfect_representation(model, target_label, 10000) for _ in range(1000)]]\n",
        "  preds_all_flatten = torch.cat(preds_all_flatten, dim=-1)\n",
        "  preds_all_mean = torch.mean(preds_all_flatten.reshape(1000, -1), dim=0)\n",
        "  return preds_all_mean.detach().numpy().reshape(28, 28)\n",
        "\n",
        "\n",
        "mc_perfect_representations = []\n",
        "with Pool(10) as p:\n",
        "  mc_perfect_representations = p.map(mean_perfect_representation, list(range(10)))"
      ]
    },
    {
      "cell_type": "code",
      "execution_count": null,
      "metadata": {},
      "outputs": [],
      "source": [
        "plt.imshow(mc_perfect_representations[7], cmap='gray')\n",
        "plt.title(\"Średni idealny obrazek dla 7\")"
      ]
    },
    {
      "cell_type": "code",
      "execution_count": null,
      "metadata": {
        "id": "_eGH_Gvm4k0L"
      },
      "outputs": [],
      "source": [
        "fix, axs = plt.subplots(2, 5, figsize=(15, 6))\n",
        "for i, enum in enumerate(zip(axs.flatten(), mc_perfect_representations)):\n",
        "    ax, data = enum\n",
        "    ax.imshow(data)\n",
        "    ax.set_title(f\"Label {i}\")\n",
        "    ax.axis('off')\n",
        "plt.tight_layout()\n",
        "plt.show()"
      ]
    }
  ],
  "metadata": {
    "colab": {
      "provenance": []
    },
    "kernelspec": {
      "display_name": "ml",
      "language": "python",
      "name": "python3"
    },
    "language_info": {
      "codemirror_mode": {
        "name": "ipython",
        "version": 3
      },
      "file_extension": ".py",
      "mimetype": "text/x-python",
      "name": "python",
      "nbconvert_exporter": "python",
      "pygments_lexer": "ipython3",
      "version": "3.13.2"
    }
  },
  "nbformat": 4,
  "nbformat_minor": 0
}
